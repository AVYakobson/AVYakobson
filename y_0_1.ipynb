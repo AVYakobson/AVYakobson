{
  "cells": [
    {
      "cell_type": "markdown",
      "metadata": {
        "id": "view-in-github",
        "colab_type": "text"
      },
      "source": [
        "<a href=\"https://colab.research.google.com/github/AVYakobson/AVYakobson/blob/main/y_0_1.ipynb\" target=\"_parent\"><img src=\"https://colab.research.google.com/assets/colab-badge.svg\" alt=\"Open In Colab\"/></a>"
      ]
    },
    {
      "cell_type": "code",
      "execution_count": null,
      "metadata": {
        "id": "5i9w3WueH3Eu"
      },
      "outputs": [],
      "source": [
        "!pip install ultralytics -q\n",
        "\n",
        "from ultralytics import YOLO\n",
        "import os\n",
        "import random\n",
        "import shutil\n",
        "import gdown\n",
        "from google.colab import files,drive\n",
        "from ultralytics import YOLO\n",
        "\n",
        "from IPython.display import display,Image\n"
      ]
    },
    {
      "cell_type": "code",
      "execution_count": null,
      "metadata": {
        "colab": {
          "base_uri": "https://localhost:8080/"
        },
        "id": "fR1vpwWbd4i6",
        "outputId": "a5766121-b6cb-429d-f527-9ae8e04bb985"
      },
      "outputs": [
        {
          "output_type": "stream",
          "name": "stdout",
          "text": [
            "UTF-8\n"
          ]
        }
      ],
      "source": [
        "import locale\n",
        "print(locale.getpreferredencoding())"
      ]
    },
    {
      "cell_type": "code",
      "execution_count": null,
      "metadata": {
        "id": "LT_brnqee9_q"
      },
      "outputs": [],
      "source": [
        "import locale\n",
        "def getpreferredencoding(do_setlocale = True):\n",
        "    return \"UTF-8\"\n",
        "locale.getpreferredencoding = getpreferredencoding"
      ]
    },
    {
      "cell_type": "code",
      "execution_count": null,
      "metadata": {
        "colab": {
          "base_uri": "https://localhost:8080/"
        },
        "id": "3u6461xKVaf0",
        "outputId": "dde6418c-631d-4c15-f97d-134dd76ece42"
      },
      "outputs": [
        {
          "output_type": "stream",
          "name": "stdout",
          "text": [
            "/content/drive/MyDrive/Aeroport\n"
          ]
        }
      ],
      "source": [
        "import os\n",
        "HOME = os.getcwd()\n",
        "HOME = \"/content/drive/MyDrive/Aeroport\"\n",
        "print(HOME)"
      ]
    },
    {
      "cell_type": "code",
      "execution_count": null,
      "metadata": {
        "id": "lIAGGJYNSROH"
      },
      "outputs": [],
      "source": [
        "drive.mount('/content/drive')\n",
        "# %ldir /content/drive/MyDrive/"
      ]
    },
    {
      "cell_type": "code",
      "execution_count": null,
      "metadata": {
        "id": "ClbMJsN08lsg"
      },
      "outputs": [],
      "source": [
        "!unzip /content/drive/MyDrive/Scaners/17.zip -d /content/drive/MyDrive/images"
      ]
    },
    {
      "cell_type": "code",
      "execution_count": null,
      "metadata": {
        "id": "mW_aYBE6k9kg",
        "colab": {
          "base_uri": "https://localhost:8080/"
        },
        "outputId": "259953f6-6919-4849-e43a-0f396c74b52d"
      },
      "outputs": [
        {
          "output_type": "stream",
          "name": "stdout",
          "text": [
            "Archive:  /content/drive/MyDrive/AirportsLabel/17_airport.zip\n",
            " extracting: /content/drive/MyDrive/labels1/train.txt  \n",
            " extracting: /content/drive/MyDrive/labels1/obj.names  \n",
            " extracting: /content/drive/MyDrive/labels1/obj.data  \n",
            " extracting: /content/drive/MyDrive/labels1/obj_train_data/02771_2.txt  \n",
            " extracting: /content/drive/MyDrive/labels1/obj_train_data/03645_1.txt  \n",
            " extracting: /content/drive/MyDrive/labels1/obj_train_data/02239_3.txt  \n",
            " extracting: /content/drive/MyDrive/labels1/obj_train_data/03607_3.txt  \n",
            " extracting: /content/drive/MyDrive/labels1/obj_train_data/02277_1.txt  \n",
            " extracting: /content/drive/MyDrive/labels1/obj_train_data/02258_2.txt  \n",
            " extracting: /content/drive/MyDrive/labels1/obj_train_data/02790_1.txt  \n",
            " extracting: /content/drive/MyDrive/labels1/obj_train_data/02752_3.txt  \n",
            " extracting: /content/drive/MyDrive/labels1/obj_train_data/03626_2.txt  \n",
            " extracting: /content/drive/MyDrive/labels1/obj_train_data/02619_1.txt  \n",
            " extracting: /content/drive/MyDrive/labels1/obj_train_data/03284_2.txt  \n",
            " extracting: /content/drive/MyDrive/labels1/obj_train_data/03265_3.txt  \n",
            " extracting: /content/drive/MyDrive/labels1/obj_train_data/02942_2.txt  \n",
            " extracting: /content/drive/MyDrive/labels1/obj_train_data/03816_1.txt  \n",
            " extracting: /content/drive/MyDrive/labels1/obj_train_data/02448_1.txt  \n",
            " extracting: /content/drive/MyDrive/labels1/obj_train_data/02429_2.txt  \n",
            " extracting: /content/drive/MyDrive/labels1/obj_train_data/03094_3.txt  \n",
            " extracting: /content/drive/MyDrive/labels1/obj_train_data/02961_1.txt  \n",
            " extracting: /content/drive/MyDrive/labels1/obj_train_data/02923_3.txt  \n",
            " extracting: /content/drive/MyDrive/labels1/obj_train_data/02087_2.txt  \n",
            " extracting: /content/drive/MyDrive/labels1/obj_train_data/02581_3.txt  \n",
            " extracting: /content/drive/MyDrive/labels1/obj_train_data/01916_2.txt  \n",
            " extracting: /content/drive/MyDrive/labels1/obj_train_data/03455_2.txt  \n",
            " extracting: /content/drive/MyDrive/labels1/obj_train_data/03436_3.txt  \n",
            " extracting: /content/drive/MyDrive/labels1/obj_train_data/03474_1.txt  \n",
            " extracting: /content/drive/MyDrive/labels1/obj_train_data/02068_3.txt  \n",
            " extracting: /content/drive/MyDrive/labels1/obj_train_data/01935_1.txt  \n",
            " extracting: /content/drive/MyDrive/labels1/obj_train_data/02125_1.txt  \n",
            " extracting: /content/drive/MyDrive/labels1/obj_train_data/02600_3.txt  \n",
            " extracting: /content/drive/MyDrive/labels1/obj_train_data/02106_2.txt  \n",
            " extracting: /content/drive/MyDrive/labels1/obj_train_data/03132_2.txt  \n",
            " extracting: /content/drive/MyDrive/labels1/obj_train_data/03151_1.txt  \n",
            " extracting: /content/drive/MyDrive/labels1/obj_train_data/03588_3.txt  \n",
            " extracting: /content/drive/MyDrive/labels1/obj_train_data/03113_3.txt  \n",
            " extracting: /content/drive/MyDrive/labels1/obj_train_data/01897_2.txt  \n",
            " extracting: /content/drive/MyDrive/labels1/obj_train_data/01878_3.txt  \n",
            " extracting: /content/drive/MyDrive/labels1/obj_train_data/03778_2.txt  \n",
            " extracting: /content/drive/MyDrive/labels1/obj_train_data/03303_2.txt  \n",
            " extracting: /content/drive/MyDrive/labels1/obj_train_data/03322_1.txt  \n",
            " extracting: /content/drive/MyDrive/labels1/obj_train_data/03797_1.txt  \n",
            " extracting: /content/drive/MyDrive/labels1/obj_train_data/03759_3.txt  \n",
            " extracting: /content/drive/MyDrive/labels1/obj_train_data/03189_2.txt  \n",
            " extracting: /content/drive/MyDrive/labels1/obj_train_data/03683_3.txt  \n",
            " extracting: /content/drive/MyDrive/labels1/obj_train_data/02657_3.txt  \n",
            " extracting: /content/drive/MyDrive/labels1/obj_train_data/02220_1.txt  \n",
            " extracting: /content/drive/MyDrive/labels1/obj_train_data/02695_1.txt  \n",
            " extracting: /content/drive/MyDrive/labels1/obj_train_data/02676_2.txt  \n",
            " extracting: /content/drive/MyDrive/labels1/obj_train_data/02201_2.txt  \n",
            " extracting: /content/drive/MyDrive/labels1/obj_train_data/02011_3.txt  \n",
            " extracting: /content/drive/MyDrive/labels1/obj_train_data/02486_3.txt  \n",
            " extracting: /content/drive/MyDrive/labels1/obj_train_data/03892_1.txt  \n",
            " extracting: /content/drive/MyDrive/labels1/obj_train_data/03854_3.txt  \n",
            " extracting: /content/drive/MyDrive/labels1/obj_train_data/03379_1.txt  \n",
            " extracting: /content/drive/MyDrive/labels1/obj_train_data/02030_2.txt  \n",
            " extracting: /content/drive/MyDrive/labels1/obj_train_data/03873_2.txt  \n",
            " extracting: /content/drive/MyDrive/labels1/obj_train_data/02828_3.txt  \n",
            " extracting: /content/drive/MyDrive/labels1/obj_train_data/01992_2.txt  \n",
            " extracting: /content/drive/MyDrive/labels1/obj_train_data/02866_1.txt  \n",
            " extracting: /content/drive/MyDrive/labels1/obj_train_data/02847_2.txt  \n",
            " extracting: /content/drive/MyDrive/labels1/obj_train_data/01973_3.txt  \n",
            " extracting: /content/drive/MyDrive/labels1/obj_train_data/03531_3.txt  \n",
            " extracting: /content/drive/MyDrive/labels1/obj_train_data/02163_3.txt  \n",
            " extracting: /content/drive/MyDrive/labels1/obj_train_data/03037_2.txt  \n",
            " extracting: /content/drive/MyDrive/labels1/obj_train_data/03018_3.txt  \n",
            " extracting: /content/drive/MyDrive/labels1/obj_train_data/03550_2.txt  \n",
            " extracting: /content/drive/MyDrive/labels1/obj_train_data/03056_1.txt  \n",
            " extracting: /content/drive/MyDrive/labels1/obj_train_data/02182_2.txt  \n",
            " extracting: /content/drive/MyDrive/labels1/obj_train_data/02543_1.txt  \n",
            " extracting: /content/drive/MyDrive/labels1/obj_train_data/03911_1.txt  \n",
            " extracting: /content/drive/MyDrive/labels1/obj_train_data/02505_3.txt  \n",
            " extracting: /content/drive/MyDrive/labels1/obj_train_data/02999_2.txt  \n",
            " extracting: /content/drive/MyDrive/labels1/obj_train_data/02524_2.txt  \n",
            " extracting: /content/drive/MyDrive/labels1/obj_train_data/03702_3.txt  \n",
            " extracting: /content/drive/MyDrive/labels1/obj_train_data/02372_1.txt  \n",
            " extracting: /content/drive/MyDrive/labels1/obj_train_data/03740_1.txt  \n",
            " extracting: /content/drive/MyDrive/labels1/obj_train_data/02334_3.txt  \n",
            " extracting: /content/drive/MyDrive/labels1/obj_train_data/03208_2.txt  \n",
            " extracting: /content/drive/MyDrive/labels1/obj_train_data/03721_2.txt  \n",
            " extracting: /content/drive/MyDrive/labels1/obj_train_data/03227_1.txt  \n",
            " extracting: /content/drive/MyDrive/labels1/obj_train_data/02353_2.txt  \n",
            " extracting: /content/drive/MyDrive/labels1/obj_train_data/01840_2.txt  \n",
            " extracting: /content/drive/MyDrive/labels1/obj_train_data/02714_1.txt  \n",
            " extracting: /content/drive/MyDrive/labels1/obj_train_data/01821_3.txt  \n",
            " extracting: /content/drive/MyDrive/labels1/obj_train_data/03360_3.txt  \n",
            " extracting: /content/drive/MyDrive/labels1/obj_train_data/03683_1.txt  \n",
            " extracting: /content/drive/MyDrive/labels1/obj_train_data/02277_3.txt  \n",
            " extracting: /content/drive/MyDrive/labels1/obj_train_data/03645_3.txt  \n",
            " extracting: /content/drive/MyDrive/labels1/obj_train_data/02296_2.txt  \n",
            " extracting: /content/drive/MyDrive/labels1/obj_train_data/03664_2.txt  \n",
            " extracting: /content/drive/MyDrive/labels1/obj_train_data/02790_3.txt  \n",
            " extracting: /content/drive/MyDrive/labels1/obj_train_data/02619_3.txt  \n",
            " extracting: /content/drive/MyDrive/labels1/obj_train_data/02657_1.txt  \n",
            " extracting: /content/drive/MyDrive/labels1/obj_train_data/02638_2.txt  \n",
            " extracting: /content/drive/MyDrive/labels1/obj_train_data/03854_1.txt  \n",
            " extracting: /content/drive/MyDrive/labels1/obj_train_data/02448_3.txt  \n",
            " extracting: /content/drive/MyDrive/labels1/obj_train_data/02980_2.txt  \n",
            " extracting: /content/drive/MyDrive/labels1/obj_train_data/02486_1.txt  \n",
            " extracting: /content/drive/MyDrive/labels1/obj_train_data/03816_3.txt  \n",
            " extracting: /content/drive/MyDrive/labels1/obj_train_data/02011_1.txt  \n",
            " extracting: /content/drive/MyDrive/labels1/obj_train_data/02467_2.txt  \n",
            " extracting: /content/drive/MyDrive/labels1/obj_train_data/03835_2.txt  \n",
            " extracting: /content/drive/MyDrive/labels1/obj_train_data/02961_3.txt  \n",
            " extracting: /content/drive/MyDrive/labels1/obj_train_data/02828_1.txt  \n",
            " extracting: /content/drive/MyDrive/labels1/obj_train_data/03493_2.txt  \n",
            " extracting: /content/drive/MyDrive/labels1/obj_train_data/01954_2.txt  \n",
            " extracting: /content/drive/MyDrive/labels1/obj_train_data/01935_3.txt  \n",
            " extracting: /content/drive/MyDrive/labels1/obj_train_data/03474_3.txt  \n",
            " extracting: /content/drive/MyDrive/labels1/obj_train_data/02809_2.txt  \n",
            " extracting: /content/drive/MyDrive/labels1/obj_train_data/01973_1.txt  \n",
            " extracting: /content/drive/MyDrive/labels1/obj_train_data/02163_1.txt  \n",
            " extracting: /content/drive/MyDrive/labels1/obj_train_data/03531_1.txt  \n",
            " extracting: /content/drive/MyDrive/labels1/obj_train_data/02125_3.txt  \n",
            " extracting: /content/drive/MyDrive/labels1/obj_train_data/03512_2.txt  \n",
            " extracting: /content/drive/MyDrive/labels1/obj_train_data/02144_2.txt  \n",
            " extracting: /content/drive/MyDrive/labels1/obj_train_data/03018_1.txt  \n",
            " extracting: /content/drive/MyDrive/labels1/obj_train_data/03170_2.txt  \n",
            " extracting: /content/drive/MyDrive/labels1/obj_train_data/02505_1.txt  \n",
            " extracting: /content/drive/MyDrive/labels1/obj_train_data/03151_3.txt  \n",
            " extracting: /content/drive/MyDrive/labels1/obj_train_data/02334_1.txt  \n",
            " extracting: /content/drive/MyDrive/labels1/obj_train_data/03702_1.txt  \n",
            " extracting: /content/drive/MyDrive/labels1/obj_train_data/02315_2.txt  \n",
            " extracting: /content/drive/MyDrive/labels1/obj_train_data/03341_2.txt  \n",
            " extracting: /content/drive/MyDrive/labels1/obj_train_data/01802_2.txt  \n",
            " extracting: /content/drive/MyDrive/labels1/obj_train_data/01821_1.txt  \n",
            " extracting: /content/drive/MyDrive/labels1/obj_train_data/03360_1.txt  \n",
            " extracting: /content/drive/MyDrive/labels1/obj_train_data/03322_3.txt  \n",
            " extracting: /content/drive/MyDrive/labels1/obj_train_data/03797_3.txt  \n",
            " extracting: /content/drive/MyDrive/labels1/obj_train_data/02600_1.txt  \n",
            " extracting: /content/drive/MyDrive/labels1/obj_train_data/02695_3.txt  \n",
            " extracting: /content/drive/MyDrive/labels1/obj_train_data/03569_2.txt  \n",
            " extracting: /content/drive/MyDrive/labels1/obj_train_data/02220_3.txt  \n",
            " extracting: /content/drive/MyDrive/labels1/obj_train_data/03588_1.txt  \n",
            " extracting: /content/drive/MyDrive/labels1/obj_train_data/03113_1.txt  \n",
            " extracting: /content/drive/MyDrive/labels1/obj_train_data/01859_2.txt  \n",
            " extracting: /content/drive/MyDrive/labels1/obj_train_data/03398_2.txt  \n",
            " extracting: /content/drive/MyDrive/labels1/obj_train_data/03892_3.txt  \n",
            " extracting: /content/drive/MyDrive/labels1/obj_train_data/01878_1.txt  \n",
            " extracting: /content/drive/MyDrive/labels1/obj_train_data/03379_3.txt  \n",
            " extracting: /content/drive/MyDrive/labels1/obj_train_data/02866_3.txt  \n",
            " extracting: /content/drive/MyDrive/labels1/obj_train_data/03759_1.txt  \n",
            " extracting: /content/drive/MyDrive/labels1/obj_train_data/02410_2.txt  \n",
            " extracting: /content/drive/MyDrive/labels1/obj_train_data/02885_2.txt  \n",
            " extracting: /content/drive/MyDrive/labels1/obj_train_data/02904_2.txt  \n",
            " extracting: /content/drive/MyDrive/labels1/obj_train_data/03075_2.txt  \n",
            " extracting: /content/drive/MyDrive/labels1/obj_train_data/02923_1.txt  \n",
            " extracting: /content/drive/MyDrive/labels1/obj_train_data/03056_3.txt  \n",
            " extracting: /content/drive/MyDrive/labels1/obj_train_data/03094_1.txt  \n",
            " extracting: /content/drive/MyDrive/labels1/obj_train_data/02581_1.txt  \n",
            " extracting: /content/drive/MyDrive/labels1/obj_train_data/03911_3.txt  \n",
            " extracting: /content/drive/MyDrive/labels1/obj_train_data/02049_2.txt  \n",
            " extracting: /content/drive/MyDrive/labels1/obj_train_data/03417_2.txt  \n",
            " extracting: /content/drive/MyDrive/labels1/obj_train_data/02543_3.txt  \n",
            " extracting: /content/drive/MyDrive/labels1/obj_train_data/02068_1.txt  \n",
            " extracting: /content/drive/MyDrive/labels1/obj_train_data/02562_2.txt  \n",
            " extracting: /content/drive/MyDrive/labels1/obj_train_data/03436_1.txt  \n",
            " extracting: /content/drive/MyDrive/labels1/obj_train_data/03740_3.txt  \n",
            " extracting: /content/drive/MyDrive/labels1/obj_train_data/03246_2.txt  \n",
            " extracting: /content/drive/MyDrive/labels1/obj_train_data/02372_3.txt  \n",
            " extracting: /content/drive/MyDrive/labels1/obj_train_data/03227_3.txt  \n",
            " extracting: /content/drive/MyDrive/labels1/obj_train_data/02391_2.txt  \n",
            " extracting: /content/drive/MyDrive/labels1/obj_train_data/03265_1.txt  \n",
            " extracting: /content/drive/MyDrive/labels1/obj_train_data/02752_1.txt  \n",
            " extracting: /content/drive/MyDrive/labels1/obj_train_data/02714_3.txt  \n",
            " extracting: /content/drive/MyDrive/labels1/obj_train_data/02239_1.txt  \n",
            " extracting: /content/drive/MyDrive/labels1/obj_train_data/02733_2.txt  \n",
            " extracting: /content/drive/MyDrive/labels1/obj_train_data/03607_1.txt  \n",
            " extracting: /content/drive/MyDrive/labels1/obj_train_data/03626_3.txt  \n",
            " extracting: /content/drive/MyDrive/labels1/obj_train_data/02296_1.txt  \n",
            " extracting: /content/drive/MyDrive/labels1/obj_train_data/03664_1.txt  \n",
            " extracting: /content/drive/MyDrive/labels1/obj_train_data/02258_3.txt  \n",
            " extracting: /content/drive/MyDrive/labels1/obj_train_data/02790_2.txt  \n",
            " extracting: /content/drive/MyDrive/labels1/obj_train_data/02771_3.txt  \n",
            " extracting: /content/drive/MyDrive/labels1/obj_train_data/03645_2.txt  \n",
            " extracting: /content/drive/MyDrive/labels1/obj_train_data/02277_2.txt  \n",
            " extracting: /content/drive/MyDrive/labels1/obj_train_data/02638_1.txt  \n",
            " extracting: /content/drive/MyDrive/labels1/obj_train_data/03284_3.txt  \n",
            " extracting: /content/drive/MyDrive/labels1/obj_train_data/02619_2.txt  \n",
            " extracting: /content/drive/MyDrive/labels1/obj_train_data/02467_1.txt  \n",
            " extracting: /content/drive/MyDrive/labels1/obj_train_data/03835_1.txt  \n",
            " extracting: /content/drive/MyDrive/labels1/obj_train_data/02429_3.txt  \n",
            " extracting: /content/drive/MyDrive/labels1/obj_train_data/02961_2.txt  \n",
            " extracting: /content/drive/MyDrive/labels1/obj_train_data/02942_3.txt  \n",
            " extracting: /content/drive/MyDrive/labels1/obj_train_data/03816_2.txt  \n",
            " extracting: /content/drive/MyDrive/labels1/obj_train_data/02980_1.txt  \n",
            " extracting: /content/drive/MyDrive/labels1/obj_train_data/02448_2.txt  \n",
            " extracting: /content/drive/MyDrive/labels1/obj_train_data/01935_2.txt  \n",
            " extracting: /content/drive/MyDrive/labels1/obj_train_data/02809_1.txt  \n",
            " extracting: /content/drive/MyDrive/labels1/obj_train_data/03474_2.txt  \n",
            " extracting: /content/drive/MyDrive/labels1/obj_train_data/03493_1.txt  \n",
            " extracting: /content/drive/MyDrive/labels1/obj_train_data/02087_3.txt  \n",
            " extracting: /content/drive/MyDrive/labels1/obj_train_data/01954_1.txt  \n",
            " extracting: /content/drive/MyDrive/labels1/obj_train_data/01916_3.txt  \n",
            " extracting: /content/drive/MyDrive/labels1/obj_train_data/03455_3.txt  \n",
            " extracting: /content/drive/MyDrive/labels1/obj_train_data/02106_3.txt  \n",
            " extracting: /content/drive/MyDrive/labels1/obj_train_data/03512_1.txt  \n",
            " extracting: /content/drive/MyDrive/labels1/obj_train_data/02144_1.txt  \n",
            " extracting: /content/drive/MyDrive/labels1/obj_train_data/02125_2.txt  \n",
            " extracting: /content/drive/MyDrive/labels1/obj_train_data/03151_2.txt  \n",
            " extracting: /content/drive/MyDrive/labels1/obj_train_data/03132_3.txt  \n",
            " extracting: /content/drive/MyDrive/labels1/obj_train_data/03170_1.txt  \n",
            " extracting: /content/drive/MyDrive/labels1/obj_train_data/02315_1.txt  \n",
            " extracting: /content/drive/MyDrive/labels1/obj_train_data/01897_3.txt  \n",
            " extracting: /content/drive/MyDrive/labels1/obj_train_data/03322_2.txt  \n",
            " extracting: /content/drive/MyDrive/labels1/obj_train_data/03797_2.txt  \n",
            " extracting: /content/drive/MyDrive/labels1/obj_train_data/03778_3.txt  \n",
            " extracting: /content/drive/MyDrive/labels1/obj_train_data/03303_3.txt  \n",
            " extracting: /content/drive/MyDrive/labels1/obj_train_data/01802_1.txt  \n",
            " extracting: /content/drive/MyDrive/labels1/obj_train_data/03341_1.txt  \n",
            " extracting: /content/drive/MyDrive/labels1/obj_train_data/03189_3.txt  \n",
            " extracting: /content/drive/MyDrive/labels1/obj_train_data/02676_3.txt  \n",
            " extracting: /content/drive/MyDrive/labels1/obj_train_data/02201_3.txt  \n",
            " extracting: /content/drive/MyDrive/labels1/obj_train_data/02220_2.txt  \n",
            " extracting: /content/drive/MyDrive/labels1/obj_train_data/03569_1.txt  \n",
            " extracting: /content/drive/MyDrive/labels1/obj_train_data/02695_2.txt  \n",
            " extracting: /content/drive/MyDrive/labels1/obj_train_data/03873_3.txt  \n",
            " extracting: /content/drive/MyDrive/labels1/obj_train_data/02030_3.txt  \n",
            " extracting: /content/drive/MyDrive/labels1/obj_train_data/03379_2.txt  \n",
            " extracting: /content/drive/MyDrive/labels1/obj_train_data/03892_2.txt  \n",
            " extracting: /content/drive/MyDrive/labels1/obj_train_data/03398_1.txt  \n",
            " extracting: /content/drive/MyDrive/labels1/obj_train_data/01859_1.txt  \n",
            " extracting: /content/drive/MyDrive/labels1/obj_train_data/02410_1.txt  \n",
            " extracting: /content/drive/MyDrive/labels1/obj_train_data/02885_1.txt  \n",
            " extracting: /content/drive/MyDrive/labels1/obj_train_data/02847_3.txt  \n",
            " extracting: /content/drive/MyDrive/labels1/obj_train_data/01992_3.txt  \n",
            " extracting: /content/drive/MyDrive/labels1/obj_train_data/02866_2.txt  \n",
            " extracting: /content/drive/MyDrive/labels1/obj_train_data/02182_3.txt  \n",
            " extracting: /content/drive/MyDrive/labels1/obj_train_data/03056_2.txt  \n",
            " extracting: /content/drive/MyDrive/labels1/obj_train_data/03550_3.txt  \n",
            " extracting: /content/drive/MyDrive/labels1/obj_train_data/03075_1.txt  \n",
            " extracting: /content/drive/MyDrive/labels1/obj_train_data/02904_1.txt  \n",
            " extracting: /content/drive/MyDrive/labels1/obj_train_data/03037_3.txt  \n",
            " extracting: /content/drive/MyDrive/labels1/obj_train_data/02524_3.txt  \n",
            " extracting: /content/drive/MyDrive/labels1/obj_train_data/02999_3.txt  \n",
            " extracting: /content/drive/MyDrive/labels1/obj_train_data/02562_1.txt  \n",
            " extracting: /content/drive/MyDrive/labels1/obj_train_data/03417_1.txt  \n",
            " extracting: /content/drive/MyDrive/labels1/obj_train_data/02543_2.txt  \n",
            " extracting: /content/drive/MyDrive/labels1/obj_train_data/03911_2.txt  \n",
            " extracting: /content/drive/MyDrive/labels1/obj_train_data/02049_1.txt  \n",
            " extracting: /content/drive/MyDrive/labels1/obj_train_data/02353_3.txt  \n",
            " extracting: /content/drive/MyDrive/labels1/obj_train_data/03227_2.txt  \n",
            " extracting: /content/drive/MyDrive/labels1/obj_train_data/02391_1.txt  \n",
            " extracting: /content/drive/MyDrive/labels1/obj_train_data/03721_3.txt  \n",
            " extracting: /content/drive/MyDrive/labels1/obj_train_data/03246_1.txt  \n",
            " extracting: /content/drive/MyDrive/labels1/obj_train_data/02372_2.txt  \n",
            " extracting: /content/drive/MyDrive/labels1/obj_train_data/03740_2.txt  \n",
            " extracting: /content/drive/MyDrive/labels1/obj_train_data/03208_3.txt  \n",
            " extracting: /content/drive/MyDrive/labels1/obj_train_data/02733_1.txt  \n",
            " extracting: /content/drive/MyDrive/labels1/obj_train_data/01840_3.txt  \n",
            " extracting: /content/drive/MyDrive/labels1/obj_train_data/02714_2.txt  \n",
            " extracting: /content/drive/MyDrive/labels1/obj_train_data/03664_3.txt  \n",
            " extracting: /content/drive/MyDrive/labels1/obj_train_data/02296_3.txt  \n",
            " extracting: /content/drive/MyDrive/labels1/obj_train_data/03683_2.txt  \n",
            " extracting: /content/drive/MyDrive/labels1/obj_train_data/03189_1.txt  \n",
            " extracting: /content/drive/MyDrive/labels1/obj_train_data/02676_1.txt  \n",
            " extracting: /content/drive/MyDrive/labels1/obj_train_data/02201_1.txt  \n",
            " extracting: /content/drive/MyDrive/labels1/obj_train_data/02638_3.txt  \n",
            " extracting: /content/drive/MyDrive/labels1/obj_train_data/02657_2.txt  \n",
            " extracting: /content/drive/MyDrive/labels1/obj_train_data/03835_3.txt  \n",
            " extracting: /content/drive/MyDrive/labels1/obj_train_data/02030_1.txt  \n",
            " extracting: /content/drive/MyDrive/labels1/obj_train_data/02467_3.txt  \n",
            " extracting: /content/drive/MyDrive/labels1/obj_train_data/03873_1.txt  \n",
            " extracting: /content/drive/MyDrive/labels1/obj_train_data/03854_2.txt  \n",
            " extracting: /content/drive/MyDrive/labels1/obj_train_data/02980_3.txt  \n",
            " extracting: /content/drive/MyDrive/labels1/obj_train_data/02486_2.txt  \n",
            " extracting: /content/drive/MyDrive/labels1/obj_train_data/02011_2.txt  \n",
            " extracting: /content/drive/MyDrive/labels1/obj_train_data/02847_1.txt  \n",
            " extracting: /content/drive/MyDrive/labels1/obj_train_data/01973_2.txt  \n",
            " extracting: /content/drive/MyDrive/labels1/obj_train_data/02809_3.txt  \n",
            " extracting: /content/drive/MyDrive/labels1/obj_train_data/01992_1.txt  \n",
            " extracting: /content/drive/MyDrive/labels1/obj_train_data/03493_3.txt  \n",
            " extracting: /content/drive/MyDrive/labels1/obj_train_data/02828_2.txt  \n",
            " extracting: /content/drive/MyDrive/labels1/obj_train_data/01954_3.txt  \n",
            " extracting: /content/drive/MyDrive/labels1/obj_train_data/03018_2.txt  \n",
            " extracting: /content/drive/MyDrive/labels1/obj_train_data/03550_1.txt  \n",
            " extracting: /content/drive/MyDrive/labels1/obj_train_data/02144_3.txt  \n",
            " extracting: /content/drive/MyDrive/labels1/obj_train_data/03512_3.txt  \n",
            " extracting: /content/drive/MyDrive/labels1/obj_train_data/02182_1.txt  \n",
            " extracting: /content/drive/MyDrive/labels1/obj_train_data/02163_2.txt  \n",
            " extracting: /content/drive/MyDrive/labels1/obj_train_data/03037_1.txt  \n",
            " extracting: /content/drive/MyDrive/labels1/obj_train_data/03531_2.txt  \n",
            " extracting: /content/drive/MyDrive/labels1/obj_train_data/02999_1.txt  \n",
            " extracting: /content/drive/MyDrive/labels1/obj_train_data/02524_1.txt  \n",
            " extracting: /content/drive/MyDrive/labels1/obj_train_data/02505_2.txt  \n",
            " extracting: /content/drive/MyDrive/labels1/obj_train_data/03170_3.txt  \n",
            " extracting: /content/drive/MyDrive/labels1/obj_train_data/03721_1.txt  \n",
            " extracting: /content/drive/MyDrive/labels1/obj_train_data/02315_3.txt  \n",
            " extracting: /content/drive/MyDrive/labels1/obj_train_data/02353_1.txt  \n",
            " extracting: /content/drive/MyDrive/labels1/obj_train_data/02334_2.txt  \n",
            " extracting: /content/drive/MyDrive/labels1/obj_train_data/03208_1.txt  \n",
            " extracting: /content/drive/MyDrive/labels1/obj_train_data/03702_2.txt  \n",
            " extracting: /content/drive/MyDrive/labels1/obj_train_data/01821_2.txt  \n",
            " extracting: /content/drive/MyDrive/labels1/obj_train_data/03360_2.txt  \n",
            " extracting: /content/drive/MyDrive/labels1/obj_train_data/03341_3.txt  \n",
            " extracting: /content/drive/MyDrive/labels1/obj_train_data/01802_3.txt  \n",
            " extracting: /content/drive/MyDrive/labels1/obj_train_data/01840_1.txt  \n",
            " extracting: /content/drive/MyDrive/labels1/obj_train_data/02600_2.txt  \n",
            " extracting: /content/drive/MyDrive/labels1/obj_train_data/02106_1.txt  \n",
            " extracting: /content/drive/MyDrive/labels1/obj_train_data/03588_2.txt  \n",
            " extracting: /content/drive/MyDrive/labels1/obj_train_data/03113_2.txt  \n",
            " extracting: /content/drive/MyDrive/labels1/obj_train_data/03569_3.txt  \n",
            " extracting: /content/drive/MyDrive/labels1/obj_train_data/03132_1.txt  \n",
            " extracting: /content/drive/MyDrive/labels1/obj_train_data/01878_2.txt  \n",
            " extracting: /content/drive/MyDrive/labels1/obj_train_data/01859_3.txt  \n",
            " extracting: /content/drive/MyDrive/labels1/obj_train_data/03398_3.txt  \n",
            " extracting: /content/drive/MyDrive/labels1/obj_train_data/01897_1.txt  \n",
            " extracting: /content/drive/MyDrive/labels1/obj_train_data/02410_3.txt  \n",
            " extracting: /content/drive/MyDrive/labels1/obj_train_data/03759_2.txt  \n",
            " extracting: /content/drive/MyDrive/labels1/obj_train_data/02885_3.txt  \n",
            " extracting: /content/drive/MyDrive/labels1/obj_train_data/03303_1.txt  \n",
            " extracting: /content/drive/MyDrive/labels1/obj_train_data/03778_1.txt  \n",
            " extracting: /content/drive/MyDrive/labels1/obj_train_data/03094_2.txt  \n",
            " extracting: /content/drive/MyDrive/labels1/obj_train_data/02429_1.txt  \n",
            " extracting: /content/drive/MyDrive/labels1/obj_train_data/02923_2.txt  \n",
            " extracting: /content/drive/MyDrive/labels1/obj_train_data/02904_3.txt  \n",
            " extracting: /content/drive/MyDrive/labels1/obj_train_data/03075_3.txt  \n",
            " extracting: /content/drive/MyDrive/labels1/obj_train_data/02942_1.txt  \n",
            " extracting: /content/drive/MyDrive/labels1/obj_train_data/03436_2.txt  \n",
            " extracting: /content/drive/MyDrive/labels1/obj_train_data/02562_3.txt  \n",
            " extracting: /content/drive/MyDrive/labels1/obj_train_data/02068_2.txt  \n",
            " extracting: /content/drive/MyDrive/labels1/obj_train_data/01916_1.txt  \n",
            " extracting: /content/drive/MyDrive/labels1/obj_train_data/02581_2.txt  \n",
            " extracting: /content/drive/MyDrive/labels1/obj_train_data/03455_1.txt  \n",
            " extracting: /content/drive/MyDrive/labels1/obj_train_data/02049_3.txt  \n",
            " extracting: /content/drive/MyDrive/labels1/obj_train_data/03417_3.txt  \n",
            " extracting: /content/drive/MyDrive/labels1/obj_train_data/02087_1.txt  \n",
            " extracting: /content/drive/MyDrive/labels1/obj_train_data/03265_2.txt  \n",
            " extracting: /content/drive/MyDrive/labels1/obj_train_data/02391_3.txt  \n",
            " extracting: /content/drive/MyDrive/labels1/obj_train_data/03284_1.txt  \n",
            " extracting: /content/drive/MyDrive/labels1/obj_train_data/03246_3.txt  \n",
            " extracting: /content/drive/MyDrive/labels1/obj_train_data/03607_2.txt  \n",
            " extracting: /content/drive/MyDrive/labels1/obj_train_data/02733_3.txt  \n",
            " extracting: /content/drive/MyDrive/labels1/obj_train_data/02239_2.txt  \n",
            " extracting: /content/drive/MyDrive/labels1/obj_train_data/02771_1.txt  \n",
            " extracting: /content/drive/MyDrive/labels1/obj_train_data/02752_2.txt  \n",
            " extracting: /content/drive/MyDrive/labels1/obj_train_data/03626_1.txt  \n",
            " extracting: /content/drive/MyDrive/labels1/obj_train_data/02258_1.txt  \n"
          ]
        }
      ],
      "source": [
        "!unzip /content/drive/MyDrive/AirportsLabel/17_airport.zip -d /content/drive/MyDrive/labels1"
      ]
    },
    {
      "cell_type": "code",
      "execution_count": null,
      "metadata": {
        "id": "9_7Pxt1BBxvL"
      },
      "outputs": [],
      "source": [
        "!mv /content/drive/MyDrive/labels1/obj_train_data/*  /content/drive/MyDrive/labels1"
      ]
    },
    {
      "cell_type": "code",
      "execution_count": null,
      "metadata": {
        "colab": {
          "base_uri": "https://localhost:8080/",
          "height": 442
        },
        "id": "gVmimwKTIa6H",
        "outputId": "92ba090b-0857-4f9e-ab0a-31ea14848d92"
      },
      "outputs": [
        {
          "output_type": "stream",
          "name": "stdout",
          "text": [
            "Requirement already satisfied: split-folders[full] in /usr/local/lib/python3.10/dist-packages (0.5.1)\n",
            "Requirement already satisfied: tqdm in /usr/local/lib/python3.10/dist-packages (from split-folders[full]) (4.66.1)\n"
          ]
        },
        {
          "output_type": "stream",
          "name": "stderr",
          "text": [
            "\rCopying files: 20 files [00:32,  1.64s/ files]\n"
          ]
        },
        {
          "output_type": "error",
          "ename": "ValueError",
          "evalue": "ignored",
          "traceback": [
            "\u001b[0;31m---------------------------------------------------------------------------\u001b[0m",
            "\u001b[0;31mValueError\u001b[0m                                Traceback (most recent call last)",
            "\u001b[0;32m<ipython-input-53-b393652f9501>\u001b[0m in \u001b[0;36m<cell line: 5>\u001b[0;34m()\u001b[0m\n\u001b[1;32m      3\u001b[0m \u001b[0;31m# Split with a ratio.\u001b[0m\u001b[0;34m\u001b[0m\u001b[0;34m\u001b[0m\u001b[0m\n\u001b[1;32m      4\u001b[0m \u001b[0;31m# To only split into training and validation set, set a tuple to `ratio`, i.e, `(.8, .2)`.\u001b[0m\u001b[0;34m\u001b[0m\u001b[0;34m\u001b[0m\u001b[0m\n\u001b[0;32m----> 5\u001b[0;31m splitfolders.ratio(\"/content/drive/MyDrive/label1\", output=\"output\",\n\u001b[0m\u001b[1;32m      6\u001b[0m seed=1337, ratio=(.8, .2,), group_prefix=None, move=False) # default values\n\u001b[1;32m      7\u001b[0m \u001b[0;34m\u001b[0m\u001b[0m\n",
            "\u001b[0;32m/usr/local/lib/python3.10/dist-packages/splitfolders/split.py\u001b[0m in \u001b[0;36mratio\u001b[0;34m(input, output, seed, ratio, group_prefix, move)\u001b[0m\n\u001b[1;32m     79\u001b[0m         \u001b[0;32mraise\u001b[0m \u001b[0mValueError\u001b[0m\u001b[0;34m(\u001b[0m\u001b[0;34m\"`ratio` should\"\u001b[0m\u001b[0;34m)\u001b[0m\u001b[0;34m\u001b[0m\u001b[0;34m\u001b[0m\u001b[0m\n\u001b[1;32m     80\u001b[0m \u001b[0;34m\u001b[0m\u001b[0m\n\u001b[0;32m---> 81\u001b[0;31m     \u001b[0mcheck_input_format\u001b[0m\u001b[0;34m(\u001b[0m\u001b[0minput\u001b[0m\u001b[0;34m)\u001b[0m\u001b[0;34m\u001b[0m\u001b[0;34m\u001b[0m\u001b[0m\n\u001b[0m\u001b[1;32m     82\u001b[0m \u001b[0;34m\u001b[0m\u001b[0m\n\u001b[1;32m     83\u001b[0m     \u001b[0;32mif\u001b[0m \u001b[0muse_tqdm\u001b[0m\u001b[0;34m:\u001b[0m\u001b[0;34m\u001b[0m\u001b[0;34m\u001b[0m\u001b[0m\n",
            "\u001b[0;32m/usr/local/lib/python3.10/dist-packages/splitfolders/split.py\u001b[0m in \u001b[0;36mcheck_input_format\u001b[0;34m(input)\u001b[0m\n\u001b[1;32m     54\u001b[0m         \u001b[0;32mif\u001b[0m \u001b[0;32mnot\u001b[0m \u001b[0mp_input\u001b[0m\u001b[0;34m.\u001b[0m\u001b[0mis_absolute\u001b[0m\u001b[0;34m(\u001b[0m\u001b[0;34m)\u001b[0m\u001b[0;34m:\u001b[0m\u001b[0;34m\u001b[0m\u001b[0;34m\u001b[0m\u001b[0m\n\u001b[1;32m     55\u001b[0m             \u001b[0merr_msg\u001b[0m \u001b[0;34m+=\u001b[0m \u001b[0;34mf' Your relative path cannot be found from the current working directory \"{Path.cwd()}\".'\u001b[0m\u001b[0;34m\u001b[0m\u001b[0;34m\u001b[0m\u001b[0m\n\u001b[0;32m---> 56\u001b[0;31m         \u001b[0;32mraise\u001b[0m \u001b[0mValueError\u001b[0m\u001b[0;34m(\u001b[0m\u001b[0merr_msg\u001b[0m\u001b[0;34m)\u001b[0m\u001b[0;34m\u001b[0m\u001b[0;34m\u001b[0m\u001b[0m\n\u001b[0m\u001b[1;32m     57\u001b[0m \u001b[0;34m\u001b[0m\u001b[0m\n\u001b[1;32m     58\u001b[0m     \u001b[0;32mif\u001b[0m \u001b[0;32mnot\u001b[0m \u001b[0mp_input\u001b[0m\u001b[0;34m.\u001b[0m\u001b[0mis_dir\u001b[0m\u001b[0;34m(\u001b[0m\u001b[0;34m)\u001b[0m\u001b[0;34m:\u001b[0m\u001b[0;34m\u001b[0m\u001b[0;34m\u001b[0m\u001b[0m\n",
            "\u001b[0;31mValueError\u001b[0m: The provided input folder \"/content/drive/MyDrive/label1\" does not exists."
          ]
        }
      ],
      "source": [
        "!pip install split-folders[full]\n",
        "import splitfolders\n",
        "# Split with a ratio.\n",
        "# To only split into training and validation set, set a tuple to `ratio`, i.e, `(.8, .2)`.\n",
        "splitfolders.ratio(\"/content/drive/MyDrive/label1\", output=\"output\",\n",
        "seed=1337, ratio=(.8, .2,), group_prefix=None, move=False) # default values\n",
        "\n",
        "# Split val/test with a fixed number of items, e.g. `(100, 100)`, for each set.\n",
        "# To only split into training and validation set, use a single number to `fixed`, i.e., `10`.\n",
        "# Set 3 values, e.g. `(300, 100, 100)`, to limit the number of training values.\n",
        "# splitfolders.fixed(\"/content/aeroport\", output=\"output\",\n",
        "# seed=1337, fixed=(20), oversample=False, group_prefix=None, move=False) # default values"
      ]
    },
    {
      "cell_type": "code",
      "execution_count": null,
      "metadata": {
        "id": "GdCofez5A8In",
        "colab": {
          "base_uri": "https://localhost:8080/"
        },
        "outputId": "69976ea9-e328-4e69-9204-5650ddd27078"
      },
      "outputs": [
        {
          "output_type": "stream",
          "name": "stderr",
          "text": [
            "\rCopying files: 20 files [02:03,  6.17s/ files]\n"
          ]
        }
      ],
      "source": [
        "#!pip install ultralytics -q\n",
        "from ultralytics import YOLO\n",
        "model = YOLO(\"yolov8l.pt\")\n"
      ]
    },
    {
      "cell_type": "code",
      "execution_count": null,
      "metadata": {
        "id": "m32Ct3H8Bh75"
      },
      "outputs": [],
      "source": [
        "!touch data.yaml"
      ]
    },
    {
      "cell_type": "code",
      "execution_count": null,
      "metadata": {
        "colab": {
          "base_uri": "https://localhost:8080/",
          "height": 532
        },
        "id": "Krw9QdEklpZi",
        "outputId": "70427b6f-d3a0-4d27-effc-7a3633dc4cca"
      },
      "outputs": [
        {
          "output_type": "stream",
          "name": "stderr",
          "text": [
            "Ultralytics YOLOv8.0.196 🚀 Python-3.10.12 torch-2.0.1+cu118 CUDA:0 (Tesla T4, 15102MiB)\n",
            "\u001b[34m\u001b[1mengine/trainer: \u001b[0mtask=detect, mode=train, model=yolov8l.pt, data=/content/data.yaml, epochs=200, patience=50, batch=16, imgsz=640, save=True, save_period=-1, cache=False, device=None, workers=8, project=None, name=None, exist_ok=False, pretrained=True, optimizer=auto, verbose=True, seed=0, deterministic=True, single_cls=False, rect=False, cos_lr=False, close_mosaic=10, resume=False, amp=True, fraction=1.0, profile=False, freeze=None, overlap_mask=True, mask_ratio=4, dropout=0.0, val=True, split=val, save_json=False, save_hybrid=False, conf=None, iou=0.7, max_det=300, half=False, dnn=False, plots=True, source=None, show=False, save_txt=False, save_conf=False, save_crop=False, show_labels=True, show_conf=True, vid_stride=1, stream_buffer=False, line_width=None, visualize=False, augment=False, agnostic_nms=False, classes=None, retina_masks=False, boxes=True, format=torchscript, keras=False, optimize=False, int8=False, dynamic=False, simplify=False, opset=None, workspace=4, nms=False, lr0=0.01, lrf=0.01, momentum=0.937, weight_decay=0.0005, warmup_epochs=3.0, warmup_momentum=0.8, warmup_bias_lr=0.1, box=7.5, cls=0.5, dfl=1.5, pose=12.0, kobj=1.0, label_smoothing=0.0, nbs=64, hsv_h=0.015, hsv_s=0.7, hsv_v=0.4, degrees=0.0, translate=0.1, scale=0.5, shear=0.0, perspective=0.0, flipud=0.0, fliplr=0.5, mosaic=1.0, mixup=0.0, copy_paste=0.0, cfg=None, tracker=botsort.yaml, save_dir=runs/detect/train2\n"
          ]
        },
        {
          "output_type": "error",
          "ename": "RuntimeError",
          "evalue": "ignored",
          "traceback": [
            "\u001b[0;31m---------------------------------------------------------------------------\u001b[0m",
            "\u001b[0;31mSyntaxError\u001b[0m                               Traceback (most recent call last)",
            "\u001b[0;32m/usr/local/lib/python3.10/dist-packages/ultralytics/engine/trainer.py\u001b[0m in \u001b[0;36m__init__\u001b[0;34m(self, cfg, overrides, _callbacks)\u001b[0m\n\u001b[1;32m    117\u001b[0m             \u001b[0;32melif\u001b[0m \u001b[0mself\u001b[0m\u001b[0;34m.\u001b[0m\u001b[0margs\u001b[0m\u001b[0;34m.\u001b[0m\u001b[0mdata\u001b[0m\u001b[0;34m.\u001b[0m\u001b[0msplit\u001b[0m\u001b[0;34m(\u001b[0m\u001b[0;34m'.'\u001b[0m\u001b[0;34m)\u001b[0m\u001b[0;34m[\u001b[0m\u001b[0;34m-\u001b[0m\u001b[0;36m1\u001b[0m\u001b[0;34m]\u001b[0m \u001b[0;32min\u001b[0m \u001b[0;34m(\u001b[0m\u001b[0;34m'yaml'\u001b[0m\u001b[0;34m,\u001b[0m \u001b[0;34m'yml'\u001b[0m\u001b[0;34m)\u001b[0m \u001b[0;32mor\u001b[0m \u001b[0mself\u001b[0m\u001b[0;34m.\u001b[0m\u001b[0margs\u001b[0m\u001b[0;34m.\u001b[0m\u001b[0mtask\u001b[0m \u001b[0;32min\u001b[0m \u001b[0;34m(\u001b[0m\u001b[0;34m'detect'\u001b[0m\u001b[0;34m,\u001b[0m \u001b[0;34m'segment'\u001b[0m\u001b[0;34m,\u001b[0m \u001b[0;34m'pose'\u001b[0m\u001b[0;34m)\u001b[0m\u001b[0;34m:\u001b[0m\u001b[0;34m\u001b[0m\u001b[0;34m\u001b[0m\u001b[0m\n\u001b[0;32m--> 118\u001b[0;31m                 \u001b[0mself\u001b[0m\u001b[0;34m.\u001b[0m\u001b[0mdata\u001b[0m \u001b[0;34m=\u001b[0m \u001b[0mcheck_det_dataset\u001b[0m\u001b[0;34m(\u001b[0m\u001b[0mself\u001b[0m\u001b[0;34m.\u001b[0m\u001b[0margs\u001b[0m\u001b[0;34m.\u001b[0m\u001b[0mdata\u001b[0m\u001b[0;34m)\u001b[0m\u001b[0;34m\u001b[0m\u001b[0;34m\u001b[0m\u001b[0m\n\u001b[0m\u001b[1;32m    119\u001b[0m                 \u001b[0;32mif\u001b[0m \u001b[0;34m'yaml_file'\u001b[0m \u001b[0;32min\u001b[0m \u001b[0mself\u001b[0m\u001b[0;34m.\u001b[0m\u001b[0mdata\u001b[0m\u001b[0;34m:\u001b[0m\u001b[0;34m\u001b[0m\u001b[0;34m\u001b[0m\u001b[0m\n",
            "\u001b[0;32m/usr/local/lib/python3.10/dist-packages/ultralytics/data/utils.py\u001b[0m in \u001b[0;36mcheck_det_dataset\u001b[0;34m(dataset, autodownload)\u001b[0m\n\u001b[1;32m    260\u001b[0m             \u001b[0;32melse\u001b[0m\u001b[0;34m:\u001b[0m\u001b[0;34m\u001b[0m\u001b[0;34m\u001b[0m\u001b[0m\n\u001b[0;32m--> 261\u001b[0;31m                 raise SyntaxError(\n\u001b[0m\u001b[1;32m    262\u001b[0m                     emojis(f\"{dataset} '{k}:' key missing ❌.\\n'train' and 'val' are required in all data YAMLs.\"))\n",
            "\u001b[0;31mSyntaxError\u001b[0m: /content/data.yaml 'train:' key missing ❌.\n'train' and 'val' are required in all data YAMLs.",
            "\nThe above exception was the direct cause of the following exception:\n",
            "\u001b[0;31mRuntimeError\u001b[0m                              Traceback (most recent call last)",
            "\u001b[0;32m<ipython-input-56-de22fa60b059>\u001b[0m in \u001b[0;36m<cell line: 1>\u001b[0;34m()\u001b[0m\n\u001b[0;32m----> 1\u001b[0;31m \u001b[0mmodel\u001b[0m\u001b[0;34m.\u001b[0m\u001b[0mtrain\u001b[0m\u001b[0;34m(\u001b[0m\u001b[0mdata\u001b[0m\u001b[0;34m=\u001b[0m\u001b[0;34m'/content/data.yaml'\u001b[0m\u001b[0;34m,\u001b[0m \u001b[0mepochs\u001b[0m\u001b[0;34m=\u001b[0m\u001b[0;36m200\u001b[0m\u001b[0;34m)\u001b[0m\u001b[0;34m\u001b[0m\u001b[0;34m\u001b[0m\u001b[0m\n\u001b[0m",
            "\u001b[0;32m/usr/local/lib/python3.10/dist-packages/ultralytics/engine/model.py\u001b[0m in \u001b[0;36mtrain\u001b[0;34m(self, trainer, **kwargs)\u001b[0m\n\u001b[1;32m    334\u001b[0m             \u001b[0margs\u001b[0m\u001b[0;34m[\u001b[0m\u001b[0;34m'resume'\u001b[0m\u001b[0;34m]\u001b[0m \u001b[0;34m=\u001b[0m \u001b[0mself\u001b[0m\u001b[0;34m.\u001b[0m\u001b[0mckpt_path\u001b[0m\u001b[0;34m\u001b[0m\u001b[0;34m\u001b[0m\u001b[0m\n\u001b[1;32m    335\u001b[0m \u001b[0;34m\u001b[0m\u001b[0m\n\u001b[0;32m--> 336\u001b[0;31m         \u001b[0mself\u001b[0m\u001b[0;34m.\u001b[0m\u001b[0mtrainer\u001b[0m \u001b[0;34m=\u001b[0m \u001b[0;34m(\u001b[0m\u001b[0mtrainer\u001b[0m \u001b[0;32mor\u001b[0m \u001b[0mself\u001b[0m\u001b[0;34m.\u001b[0m\u001b[0m_smart_load\u001b[0m\u001b[0;34m(\u001b[0m\u001b[0;34m'trainer'\u001b[0m\u001b[0;34m)\u001b[0m\u001b[0;34m)\u001b[0m\u001b[0;34m(\u001b[0m\u001b[0moverrides\u001b[0m\u001b[0;34m=\u001b[0m\u001b[0margs\u001b[0m\u001b[0;34m,\u001b[0m \u001b[0m_callbacks\u001b[0m\u001b[0;34m=\u001b[0m\u001b[0mself\u001b[0m\u001b[0;34m.\u001b[0m\u001b[0mcallbacks\u001b[0m\u001b[0;34m)\u001b[0m\u001b[0;34m\u001b[0m\u001b[0;34m\u001b[0m\u001b[0m\n\u001b[0m\u001b[1;32m    337\u001b[0m         \u001b[0;32mif\u001b[0m \u001b[0;32mnot\u001b[0m \u001b[0margs\u001b[0m\u001b[0;34m.\u001b[0m\u001b[0mget\u001b[0m\u001b[0;34m(\u001b[0m\u001b[0;34m'resume'\u001b[0m\u001b[0;34m)\u001b[0m\u001b[0;34m:\u001b[0m  \u001b[0;31m# manually set model only if not resuming\u001b[0m\u001b[0;34m\u001b[0m\u001b[0;34m\u001b[0m\u001b[0m\n\u001b[1;32m    338\u001b[0m             \u001b[0mself\u001b[0m\u001b[0;34m.\u001b[0m\u001b[0mtrainer\u001b[0m\u001b[0;34m.\u001b[0m\u001b[0mmodel\u001b[0m \u001b[0;34m=\u001b[0m \u001b[0mself\u001b[0m\u001b[0;34m.\u001b[0m\u001b[0mtrainer\u001b[0m\u001b[0;34m.\u001b[0m\u001b[0mget_model\u001b[0m\u001b[0;34m(\u001b[0m\u001b[0mweights\u001b[0m\u001b[0;34m=\u001b[0m\u001b[0mself\u001b[0m\u001b[0;34m.\u001b[0m\u001b[0mmodel\u001b[0m \u001b[0;32mif\u001b[0m \u001b[0mself\u001b[0m\u001b[0;34m.\u001b[0m\u001b[0mckpt\u001b[0m \u001b[0;32melse\u001b[0m \u001b[0;32mNone\u001b[0m\u001b[0;34m,\u001b[0m \u001b[0mcfg\u001b[0m\u001b[0;34m=\u001b[0m\u001b[0mself\u001b[0m\u001b[0;34m.\u001b[0m\u001b[0mmodel\u001b[0m\u001b[0;34m.\u001b[0m\u001b[0myaml\u001b[0m\u001b[0;34m)\u001b[0m\u001b[0;34m\u001b[0m\u001b[0;34m\u001b[0m\u001b[0m\n",
            "\u001b[0;32m/usr/local/lib/python3.10/dist-packages/ultralytics/engine/trainer.py\u001b[0m in \u001b[0;36m__init__\u001b[0;34m(self, cfg, overrides, _callbacks)\u001b[0m\n\u001b[1;32m    120\u001b[0m                     \u001b[0mself\u001b[0m\u001b[0;34m.\u001b[0m\u001b[0margs\u001b[0m\u001b[0;34m.\u001b[0m\u001b[0mdata\u001b[0m \u001b[0;34m=\u001b[0m \u001b[0mself\u001b[0m\u001b[0;34m.\u001b[0m\u001b[0mdata\u001b[0m\u001b[0;34m[\u001b[0m\u001b[0;34m'yaml_file'\u001b[0m\u001b[0;34m]\u001b[0m  \u001b[0;31m# for validating 'yolo train data=url.zip' usage\u001b[0m\u001b[0;34m\u001b[0m\u001b[0;34m\u001b[0m\u001b[0m\n\u001b[1;32m    121\u001b[0m         \u001b[0;32mexcept\u001b[0m \u001b[0mException\u001b[0m \u001b[0;32mas\u001b[0m \u001b[0me\u001b[0m\u001b[0;34m:\u001b[0m\u001b[0;34m\u001b[0m\u001b[0;34m\u001b[0m\u001b[0m\n\u001b[0;32m--> 122\u001b[0;31m             \u001b[0;32mraise\u001b[0m \u001b[0mRuntimeError\u001b[0m\u001b[0;34m(\u001b[0m\u001b[0memojis\u001b[0m\u001b[0;34m(\u001b[0m\u001b[0;34mf\"Dataset '{clean_url(self.args.data)}' error ❌ {e}\"\u001b[0m\u001b[0;34m)\u001b[0m\u001b[0;34m)\u001b[0m \u001b[0;32mfrom\u001b[0m \u001b[0me\u001b[0m\u001b[0;34m\u001b[0m\u001b[0;34m\u001b[0m\u001b[0m\n\u001b[0m\u001b[1;32m    123\u001b[0m \u001b[0;34m\u001b[0m\u001b[0m\n\u001b[1;32m    124\u001b[0m         \u001b[0mself\u001b[0m\u001b[0;34m.\u001b[0m\u001b[0mtrainset\u001b[0m\u001b[0;34m,\u001b[0m \u001b[0mself\u001b[0m\u001b[0;34m.\u001b[0m\u001b[0mtestset\u001b[0m \u001b[0;34m=\u001b[0m \u001b[0mself\u001b[0m\u001b[0;34m.\u001b[0m\u001b[0mget_dataset\u001b[0m\u001b[0;34m(\u001b[0m\u001b[0mself\u001b[0m\u001b[0;34m.\u001b[0m\u001b[0mdata\u001b[0m\u001b[0;34m)\u001b[0m\u001b[0;34m\u001b[0m\u001b[0;34m\u001b[0m\u001b[0m\n",
            "\u001b[0;31mRuntimeError\u001b[0m: Dataset '/content/data.yaml' error ❌ /content/data.yaml 'train:' key missing ❌.\n'train' and 'val' are required in all data YAMLs."
          ]
        }
      ],
      "source": [
        "model.train(data='/content/data.yaml', epochs=200)"
      ]
    },
    {
      "cell_type": "code",
      "execution_count": null,
      "metadata": {
        "id": "DNjxl9akLOZf",
        "colab": {
          "base_uri": "https://localhost:8080/"
        },
        "outputId": "33e05647-fb60-4c77-b45c-62b66cdbcc2e"
      },
      "outputs": [
        {
          "output_type": "stream",
          "name": "stdout",
          "text": [
            "args.yaml  weights\n"
          ]
        }
      ],
      "source": [
        "!ls /content/runs/detect/train"
      ]
    },
    {
      "cell_type": "code",
      "execution_count": null,
      "metadata": {
        "colab": {
          "base_uri": "https://localhost:8080/",
          "height": 321
        },
        "id": "z701uzM72GAZ",
        "outputId": "89a89b4f-6f93-4d11-a75b-76da47d09b75"
      },
      "outputs": [
        {
          "output_type": "error",
          "ename": "FileNotFoundError",
          "evalue": "ignored",
          "traceback": [
            "\u001b[0;31m---------------------------------------------------------------------------\u001b[0m",
            "\u001b[0;31mFileNotFoundError\u001b[0m                         Traceback (most recent call last)",
            "\u001b[0;32m<ipython-input-58-64b75113f474>\u001b[0m in \u001b[0;36m<cell line: 1>\u001b[0;34m()\u001b[0m\n\u001b[0;32m----> 1\u001b[0;31m \u001b[0mImage\u001b[0m\u001b[0;34m(\u001b[0m\u001b[0mfilename\u001b[0m\u001b[0;34m=\u001b[0m \u001b[0;34mf'/content/runs/detect/train/confusion_matrix.png'\u001b[0m\u001b[0;34m,\u001b[0m \u001b[0mwidth\u001b[0m\u001b[0;34m=\u001b[0m\u001b[0;36m600\u001b[0m\u001b[0;34m)\u001b[0m\u001b[0;34m\u001b[0m\u001b[0;34m\u001b[0m\u001b[0m\n\u001b[0m",
            "\u001b[0;32m/usr/local/lib/python3.10/dist-packages/IPython/core/display.py\u001b[0m in \u001b[0;36m__init__\u001b[0;34m(self, data, url, filename, format, embed, width, height, retina, unconfined, metadata)\u001b[0m\n\u001b[1;32m   1229\u001b[0m         \u001b[0mself\u001b[0m\u001b[0;34m.\u001b[0m\u001b[0mretina\u001b[0m \u001b[0;34m=\u001b[0m \u001b[0mretina\u001b[0m\u001b[0;34m\u001b[0m\u001b[0;34m\u001b[0m\u001b[0m\n\u001b[1;32m   1230\u001b[0m         \u001b[0mself\u001b[0m\u001b[0;34m.\u001b[0m\u001b[0munconfined\u001b[0m \u001b[0;34m=\u001b[0m \u001b[0munconfined\u001b[0m\u001b[0;34m\u001b[0m\u001b[0;34m\u001b[0m\u001b[0m\n\u001b[0;32m-> 1231\u001b[0;31m         super(Image, self).__init__(data=data, url=url, filename=filename, \n\u001b[0m\u001b[1;32m   1232\u001b[0m                 metadata=metadata)\n\u001b[1;32m   1233\u001b[0m \u001b[0;34m\u001b[0m\u001b[0m\n",
            "\u001b[0;32m/usr/local/lib/python3.10/dist-packages/IPython/core/display.py\u001b[0m in \u001b[0;36m__init__\u001b[0;34m(self, data, url, filename, metadata)\u001b[0m\n\u001b[1;32m    635\u001b[0m             \u001b[0mself\u001b[0m\u001b[0;34m.\u001b[0m\u001b[0mmetadata\u001b[0m \u001b[0;34m=\u001b[0m \u001b[0;34m{\u001b[0m\u001b[0;34m}\u001b[0m\u001b[0;34m\u001b[0m\u001b[0;34m\u001b[0m\u001b[0m\n\u001b[1;32m    636\u001b[0m \u001b[0;34m\u001b[0m\u001b[0m\n\u001b[0;32m--> 637\u001b[0;31m         \u001b[0mself\u001b[0m\u001b[0;34m.\u001b[0m\u001b[0mreload\u001b[0m\u001b[0;34m(\u001b[0m\u001b[0;34m)\u001b[0m\u001b[0;34m\u001b[0m\u001b[0;34m\u001b[0m\u001b[0m\n\u001b[0m\u001b[1;32m    638\u001b[0m         \u001b[0mself\u001b[0m\u001b[0;34m.\u001b[0m\u001b[0m_check_data\u001b[0m\u001b[0;34m(\u001b[0m\u001b[0;34m)\u001b[0m\u001b[0;34m\u001b[0m\u001b[0;34m\u001b[0m\u001b[0m\n\u001b[1;32m    639\u001b[0m \u001b[0;34m\u001b[0m\u001b[0m\n",
            "\u001b[0;32m/usr/local/lib/python3.10/dist-packages/IPython/core/display.py\u001b[0m in \u001b[0;36mreload\u001b[0;34m(self)\u001b[0m\n\u001b[1;32m   1261\u001b[0m         \u001b[0;34m\"\"\"Reload the raw data from file or URL.\"\"\"\u001b[0m\u001b[0;34m\u001b[0m\u001b[0;34m\u001b[0m\u001b[0m\n\u001b[1;32m   1262\u001b[0m         \u001b[0;32mif\u001b[0m \u001b[0mself\u001b[0m\u001b[0;34m.\u001b[0m\u001b[0membed\u001b[0m\u001b[0;34m:\u001b[0m\u001b[0;34m\u001b[0m\u001b[0;34m\u001b[0m\u001b[0m\n\u001b[0;32m-> 1263\u001b[0;31m             \u001b[0msuper\u001b[0m\u001b[0;34m(\u001b[0m\u001b[0mImage\u001b[0m\u001b[0;34m,\u001b[0m\u001b[0mself\u001b[0m\u001b[0;34m)\u001b[0m\u001b[0;34m.\u001b[0m\u001b[0mreload\u001b[0m\u001b[0;34m(\u001b[0m\u001b[0;34m)\u001b[0m\u001b[0;34m\u001b[0m\u001b[0;34m\u001b[0m\u001b[0m\n\u001b[0m\u001b[1;32m   1264\u001b[0m             \u001b[0;32mif\u001b[0m \u001b[0mself\u001b[0m\u001b[0;34m.\u001b[0m\u001b[0mretina\u001b[0m\u001b[0;34m:\u001b[0m\u001b[0;34m\u001b[0m\u001b[0;34m\u001b[0m\u001b[0m\n\u001b[1;32m   1265\u001b[0m                 \u001b[0mself\u001b[0m\u001b[0;34m.\u001b[0m\u001b[0m_retina_shape\u001b[0m\u001b[0;34m(\u001b[0m\u001b[0;34m)\u001b[0m\u001b[0;34m\u001b[0m\u001b[0;34m\u001b[0m\u001b[0m\n",
            "\u001b[0;32m/usr/local/lib/python3.10/dist-packages/IPython/core/display.py\u001b[0m in \u001b[0;36mreload\u001b[0;34m(self)\u001b[0m\n\u001b[1;32m    660\u001b[0m         \u001b[0;34m\"\"\"Reload the raw data from file or URL.\"\"\"\u001b[0m\u001b[0;34m\u001b[0m\u001b[0;34m\u001b[0m\u001b[0m\n\u001b[1;32m    661\u001b[0m         \u001b[0;32mif\u001b[0m \u001b[0mself\u001b[0m\u001b[0;34m.\u001b[0m\u001b[0mfilename\u001b[0m \u001b[0;32mis\u001b[0m \u001b[0;32mnot\u001b[0m \u001b[0;32mNone\u001b[0m\u001b[0;34m:\u001b[0m\u001b[0;34m\u001b[0m\u001b[0;34m\u001b[0m\u001b[0m\n\u001b[0;32m--> 662\u001b[0;31m             \u001b[0;32mwith\u001b[0m \u001b[0mopen\u001b[0m\u001b[0;34m(\u001b[0m\u001b[0mself\u001b[0m\u001b[0;34m.\u001b[0m\u001b[0mfilename\u001b[0m\u001b[0;34m,\u001b[0m \u001b[0mself\u001b[0m\u001b[0;34m.\u001b[0m\u001b[0m_read_flags\u001b[0m\u001b[0;34m)\u001b[0m \u001b[0;32mas\u001b[0m \u001b[0mf\u001b[0m\u001b[0;34m:\u001b[0m\u001b[0;34m\u001b[0m\u001b[0;34m\u001b[0m\u001b[0m\n\u001b[0m\u001b[1;32m    663\u001b[0m                 \u001b[0mself\u001b[0m\u001b[0;34m.\u001b[0m\u001b[0mdata\u001b[0m \u001b[0;34m=\u001b[0m \u001b[0mf\u001b[0m\u001b[0;34m.\u001b[0m\u001b[0mread\u001b[0m\u001b[0;34m(\u001b[0m\u001b[0;34m)\u001b[0m\u001b[0;34m\u001b[0m\u001b[0;34m\u001b[0m\u001b[0m\n\u001b[1;32m    664\u001b[0m         \u001b[0;32melif\u001b[0m \u001b[0mself\u001b[0m\u001b[0;34m.\u001b[0m\u001b[0murl\u001b[0m \u001b[0;32mis\u001b[0m \u001b[0;32mnot\u001b[0m \u001b[0;32mNone\u001b[0m\u001b[0;34m:\u001b[0m\u001b[0;34m\u001b[0m\u001b[0;34m\u001b[0m\u001b[0m\n",
            "\u001b[0;31mFileNotFoundError\u001b[0m: [Errno 2] No such file or directory: '/content/runs/detect/train/confusion_matrix.png'"
          ]
        }
      ],
      "source": [
        "\n",
        "Image(filename= f'/content/runs/detect/train/confusion_matrix.png', width=600)"
      ]
    },
    {
      "cell_type": "markdown",
      "metadata": {
        "id": "ANpcgb4Gp5j4"
      },
      "source": []
    },
    {
      "cell_type": "code",
      "execution_count": null,
      "metadata": {
        "id": "iarDFokq_zud",
        "colab": {
          "base_uri": "https://localhost:8080/",
          "height": 321
        },
        "outputId": "99c7620b-c775-4eb7-d7a8-9ee41e6c4262"
      },
      "outputs": [
        {
          "output_type": "error",
          "ename": "FileNotFoundError",
          "evalue": "ignored",
          "traceback": [
            "\u001b[0;31m---------------------------------------------------------------------------\u001b[0m",
            "\u001b[0;31mFileNotFoundError\u001b[0m                         Traceback (most recent call last)",
            "\u001b[0;32m<ipython-input-59-517ab6b318e3>\u001b[0m in \u001b[0;36m<cell line: 1>\u001b[0;34m()\u001b[0m\n\u001b[0;32m----> 1\u001b[0;31m \u001b[0mImage\u001b[0m\u001b[0;34m(\u001b[0m\u001b[0mfilename\u001b[0m\u001b[0;34m=\u001b[0m\u001b[0;34mf\"/content/runs/detect/train/results.png\"\u001b[0m\u001b[0;34m,\u001b[0m\u001b[0mwidth\u001b[0m\u001b[0;34m=\u001b[0m\u001b[0;36m600\u001b[0m\u001b[0;34m)\u001b[0m\u001b[0;34m\u001b[0m\u001b[0;34m\u001b[0m\u001b[0m\n\u001b[0m",
            "\u001b[0;32m/usr/local/lib/python3.10/dist-packages/IPython/core/display.py\u001b[0m in \u001b[0;36m__init__\u001b[0;34m(self, data, url, filename, format, embed, width, height, retina, unconfined, metadata)\u001b[0m\n\u001b[1;32m   1229\u001b[0m         \u001b[0mself\u001b[0m\u001b[0;34m.\u001b[0m\u001b[0mretina\u001b[0m \u001b[0;34m=\u001b[0m \u001b[0mretina\u001b[0m\u001b[0;34m\u001b[0m\u001b[0;34m\u001b[0m\u001b[0m\n\u001b[1;32m   1230\u001b[0m         \u001b[0mself\u001b[0m\u001b[0;34m.\u001b[0m\u001b[0munconfined\u001b[0m \u001b[0;34m=\u001b[0m \u001b[0munconfined\u001b[0m\u001b[0;34m\u001b[0m\u001b[0;34m\u001b[0m\u001b[0m\n\u001b[0;32m-> 1231\u001b[0;31m         super(Image, self).__init__(data=data, url=url, filename=filename, \n\u001b[0m\u001b[1;32m   1232\u001b[0m                 metadata=metadata)\n\u001b[1;32m   1233\u001b[0m \u001b[0;34m\u001b[0m\u001b[0m\n",
            "\u001b[0;32m/usr/local/lib/python3.10/dist-packages/IPython/core/display.py\u001b[0m in \u001b[0;36m__init__\u001b[0;34m(self, data, url, filename, metadata)\u001b[0m\n\u001b[1;32m    635\u001b[0m             \u001b[0mself\u001b[0m\u001b[0;34m.\u001b[0m\u001b[0mmetadata\u001b[0m \u001b[0;34m=\u001b[0m \u001b[0;34m{\u001b[0m\u001b[0;34m}\u001b[0m\u001b[0;34m\u001b[0m\u001b[0;34m\u001b[0m\u001b[0m\n\u001b[1;32m    636\u001b[0m \u001b[0;34m\u001b[0m\u001b[0m\n\u001b[0;32m--> 637\u001b[0;31m         \u001b[0mself\u001b[0m\u001b[0;34m.\u001b[0m\u001b[0mreload\u001b[0m\u001b[0;34m(\u001b[0m\u001b[0;34m)\u001b[0m\u001b[0;34m\u001b[0m\u001b[0;34m\u001b[0m\u001b[0m\n\u001b[0m\u001b[1;32m    638\u001b[0m         \u001b[0mself\u001b[0m\u001b[0;34m.\u001b[0m\u001b[0m_check_data\u001b[0m\u001b[0;34m(\u001b[0m\u001b[0;34m)\u001b[0m\u001b[0;34m\u001b[0m\u001b[0;34m\u001b[0m\u001b[0m\n\u001b[1;32m    639\u001b[0m \u001b[0;34m\u001b[0m\u001b[0m\n",
            "\u001b[0;32m/usr/local/lib/python3.10/dist-packages/IPython/core/display.py\u001b[0m in \u001b[0;36mreload\u001b[0;34m(self)\u001b[0m\n\u001b[1;32m   1261\u001b[0m         \u001b[0;34m\"\"\"Reload the raw data from file or URL.\"\"\"\u001b[0m\u001b[0;34m\u001b[0m\u001b[0;34m\u001b[0m\u001b[0m\n\u001b[1;32m   1262\u001b[0m         \u001b[0;32mif\u001b[0m \u001b[0mself\u001b[0m\u001b[0;34m.\u001b[0m\u001b[0membed\u001b[0m\u001b[0;34m:\u001b[0m\u001b[0;34m\u001b[0m\u001b[0;34m\u001b[0m\u001b[0m\n\u001b[0;32m-> 1263\u001b[0;31m             \u001b[0msuper\u001b[0m\u001b[0;34m(\u001b[0m\u001b[0mImage\u001b[0m\u001b[0;34m,\u001b[0m\u001b[0mself\u001b[0m\u001b[0;34m)\u001b[0m\u001b[0;34m.\u001b[0m\u001b[0mreload\u001b[0m\u001b[0;34m(\u001b[0m\u001b[0;34m)\u001b[0m\u001b[0;34m\u001b[0m\u001b[0;34m\u001b[0m\u001b[0m\n\u001b[0m\u001b[1;32m   1264\u001b[0m             \u001b[0;32mif\u001b[0m \u001b[0mself\u001b[0m\u001b[0;34m.\u001b[0m\u001b[0mretina\u001b[0m\u001b[0;34m:\u001b[0m\u001b[0;34m\u001b[0m\u001b[0;34m\u001b[0m\u001b[0m\n\u001b[1;32m   1265\u001b[0m                 \u001b[0mself\u001b[0m\u001b[0;34m.\u001b[0m\u001b[0m_retina_shape\u001b[0m\u001b[0;34m(\u001b[0m\u001b[0;34m)\u001b[0m\u001b[0;34m\u001b[0m\u001b[0;34m\u001b[0m\u001b[0m\n",
            "\u001b[0;32m/usr/local/lib/python3.10/dist-packages/IPython/core/display.py\u001b[0m in \u001b[0;36mreload\u001b[0;34m(self)\u001b[0m\n\u001b[1;32m    660\u001b[0m         \u001b[0;34m\"\"\"Reload the raw data from file or URL.\"\"\"\u001b[0m\u001b[0;34m\u001b[0m\u001b[0;34m\u001b[0m\u001b[0m\n\u001b[1;32m    661\u001b[0m         \u001b[0;32mif\u001b[0m \u001b[0mself\u001b[0m\u001b[0;34m.\u001b[0m\u001b[0mfilename\u001b[0m \u001b[0;32mis\u001b[0m \u001b[0;32mnot\u001b[0m \u001b[0;32mNone\u001b[0m\u001b[0;34m:\u001b[0m\u001b[0;34m\u001b[0m\u001b[0;34m\u001b[0m\u001b[0m\n\u001b[0;32m--> 662\u001b[0;31m             \u001b[0;32mwith\u001b[0m \u001b[0mopen\u001b[0m\u001b[0;34m(\u001b[0m\u001b[0mself\u001b[0m\u001b[0;34m.\u001b[0m\u001b[0mfilename\u001b[0m\u001b[0;34m,\u001b[0m \u001b[0mself\u001b[0m\u001b[0;34m.\u001b[0m\u001b[0m_read_flags\u001b[0m\u001b[0;34m)\u001b[0m \u001b[0;32mas\u001b[0m \u001b[0mf\u001b[0m\u001b[0;34m:\u001b[0m\u001b[0;34m\u001b[0m\u001b[0;34m\u001b[0m\u001b[0m\n\u001b[0m\u001b[1;32m    663\u001b[0m                 \u001b[0mself\u001b[0m\u001b[0;34m.\u001b[0m\u001b[0mdata\u001b[0m \u001b[0;34m=\u001b[0m \u001b[0mf\u001b[0m\u001b[0;34m.\u001b[0m\u001b[0mread\u001b[0m\u001b[0;34m(\u001b[0m\u001b[0;34m)\u001b[0m\u001b[0;34m\u001b[0m\u001b[0;34m\u001b[0m\u001b[0m\n\u001b[1;32m    664\u001b[0m         \u001b[0;32melif\u001b[0m \u001b[0mself\u001b[0m\u001b[0;34m.\u001b[0m\u001b[0murl\u001b[0m \u001b[0;32mis\u001b[0m \u001b[0;32mnot\u001b[0m \u001b[0;32mNone\u001b[0m\u001b[0;34m:\u001b[0m\u001b[0;34m\u001b[0m\u001b[0;34m\u001b[0m\u001b[0m\n",
            "\u001b[0;31mFileNotFoundError\u001b[0m: [Errno 2] No such file or directory: '/content/runs/detect/train/results.png'"
          ]
        }
      ],
      "source": [
        "Image(filename=f\"/content/runs/detect/train/results.png\",width=600)"
      ]
    },
    {
      "cell_type": "code",
      "execution_count": null,
      "metadata": {
        "id": "ifTOFn523u_M",
        "colab": {
          "base_uri": "https://localhost:8080/",
          "height": 321
        },
        "outputId": "1ac56ba6-70ae-4dfb-a600-b7bddc19ac26"
      },
      "outputs": [
        {
          "output_type": "error",
          "ename": "FileNotFoundError",
          "evalue": "ignored",
          "traceback": [
            "\u001b[0;31m---------------------------------------------------------------------------\u001b[0m",
            "\u001b[0;31mFileNotFoundError\u001b[0m                         Traceback (most recent call last)",
            "\u001b[0;32m<ipython-input-17-a4b9179d402f>\u001b[0m in \u001b[0;36m<cell line: 1>\u001b[0;34m()\u001b[0m\n\u001b[0;32m----> 1\u001b[0;31m \u001b[0mImage\u001b[0m\u001b[0;34m(\u001b[0m\u001b[0mfilename\u001b[0m\u001b[0;34m=\u001b[0m\u001b[0;34mf'/content/runs/detect/train/val_batch0_pred.jpg'\u001b[0m\u001b[0;34m,\u001b[0m \u001b[0mwidth\u001b[0m\u001b[0;34m=\u001b[0m\u001b[0;36m800\u001b[0m\u001b[0;34m)\u001b[0m\u001b[0;34m\u001b[0m\u001b[0;34m\u001b[0m\u001b[0m\n\u001b[0m",
            "\u001b[0;32m/usr/local/lib/python3.10/dist-packages/IPython/core/display.py\u001b[0m in \u001b[0;36m__init__\u001b[0;34m(self, data, url, filename, format, embed, width, height, retina, unconfined, metadata)\u001b[0m\n\u001b[1;32m   1229\u001b[0m         \u001b[0mself\u001b[0m\u001b[0;34m.\u001b[0m\u001b[0mretina\u001b[0m \u001b[0;34m=\u001b[0m \u001b[0mretina\u001b[0m\u001b[0;34m\u001b[0m\u001b[0;34m\u001b[0m\u001b[0m\n\u001b[1;32m   1230\u001b[0m         \u001b[0mself\u001b[0m\u001b[0;34m.\u001b[0m\u001b[0munconfined\u001b[0m \u001b[0;34m=\u001b[0m \u001b[0munconfined\u001b[0m\u001b[0;34m\u001b[0m\u001b[0;34m\u001b[0m\u001b[0m\n\u001b[0;32m-> 1231\u001b[0;31m         super(Image, self).__init__(data=data, url=url, filename=filename, \n\u001b[0m\u001b[1;32m   1232\u001b[0m                 metadata=metadata)\n\u001b[1;32m   1233\u001b[0m \u001b[0;34m\u001b[0m\u001b[0m\n",
            "\u001b[0;32m/usr/local/lib/python3.10/dist-packages/IPython/core/display.py\u001b[0m in \u001b[0;36m__init__\u001b[0;34m(self, data, url, filename, metadata)\u001b[0m\n\u001b[1;32m    635\u001b[0m             \u001b[0mself\u001b[0m\u001b[0;34m.\u001b[0m\u001b[0mmetadata\u001b[0m \u001b[0;34m=\u001b[0m \u001b[0;34m{\u001b[0m\u001b[0;34m}\u001b[0m\u001b[0;34m\u001b[0m\u001b[0;34m\u001b[0m\u001b[0m\n\u001b[1;32m    636\u001b[0m \u001b[0;34m\u001b[0m\u001b[0m\n\u001b[0;32m--> 637\u001b[0;31m         \u001b[0mself\u001b[0m\u001b[0;34m.\u001b[0m\u001b[0mreload\u001b[0m\u001b[0;34m(\u001b[0m\u001b[0;34m)\u001b[0m\u001b[0;34m\u001b[0m\u001b[0;34m\u001b[0m\u001b[0m\n\u001b[0m\u001b[1;32m    638\u001b[0m         \u001b[0mself\u001b[0m\u001b[0;34m.\u001b[0m\u001b[0m_check_data\u001b[0m\u001b[0;34m(\u001b[0m\u001b[0;34m)\u001b[0m\u001b[0;34m\u001b[0m\u001b[0;34m\u001b[0m\u001b[0m\n\u001b[1;32m    639\u001b[0m \u001b[0;34m\u001b[0m\u001b[0m\n",
            "\u001b[0;32m/usr/local/lib/python3.10/dist-packages/IPython/core/display.py\u001b[0m in \u001b[0;36mreload\u001b[0;34m(self)\u001b[0m\n\u001b[1;32m   1261\u001b[0m         \u001b[0;34m\"\"\"Reload the raw data from file or URL.\"\"\"\u001b[0m\u001b[0;34m\u001b[0m\u001b[0;34m\u001b[0m\u001b[0m\n\u001b[1;32m   1262\u001b[0m         \u001b[0;32mif\u001b[0m \u001b[0mself\u001b[0m\u001b[0;34m.\u001b[0m\u001b[0membed\u001b[0m\u001b[0;34m:\u001b[0m\u001b[0;34m\u001b[0m\u001b[0;34m\u001b[0m\u001b[0m\n\u001b[0;32m-> 1263\u001b[0;31m             \u001b[0msuper\u001b[0m\u001b[0;34m(\u001b[0m\u001b[0mImage\u001b[0m\u001b[0;34m,\u001b[0m\u001b[0mself\u001b[0m\u001b[0;34m)\u001b[0m\u001b[0;34m.\u001b[0m\u001b[0mreload\u001b[0m\u001b[0;34m(\u001b[0m\u001b[0;34m)\u001b[0m\u001b[0;34m\u001b[0m\u001b[0;34m\u001b[0m\u001b[0m\n\u001b[0m\u001b[1;32m   1264\u001b[0m             \u001b[0;32mif\u001b[0m \u001b[0mself\u001b[0m\u001b[0;34m.\u001b[0m\u001b[0mretina\u001b[0m\u001b[0;34m:\u001b[0m\u001b[0;34m\u001b[0m\u001b[0;34m\u001b[0m\u001b[0m\n\u001b[1;32m   1265\u001b[0m                 \u001b[0mself\u001b[0m\u001b[0;34m.\u001b[0m\u001b[0m_retina_shape\u001b[0m\u001b[0;34m(\u001b[0m\u001b[0;34m)\u001b[0m\u001b[0;34m\u001b[0m\u001b[0;34m\u001b[0m\u001b[0m\n",
            "\u001b[0;32m/usr/local/lib/python3.10/dist-packages/IPython/core/display.py\u001b[0m in \u001b[0;36mreload\u001b[0;34m(self)\u001b[0m\n\u001b[1;32m    660\u001b[0m         \u001b[0;34m\"\"\"Reload the raw data from file or URL.\"\"\"\u001b[0m\u001b[0;34m\u001b[0m\u001b[0;34m\u001b[0m\u001b[0m\n\u001b[1;32m    661\u001b[0m         \u001b[0;32mif\u001b[0m \u001b[0mself\u001b[0m\u001b[0;34m.\u001b[0m\u001b[0mfilename\u001b[0m \u001b[0;32mis\u001b[0m \u001b[0;32mnot\u001b[0m \u001b[0;32mNone\u001b[0m\u001b[0;34m:\u001b[0m\u001b[0;34m\u001b[0m\u001b[0;34m\u001b[0m\u001b[0m\n\u001b[0;32m--> 662\u001b[0;31m             \u001b[0;32mwith\u001b[0m \u001b[0mopen\u001b[0m\u001b[0;34m(\u001b[0m\u001b[0mself\u001b[0m\u001b[0;34m.\u001b[0m\u001b[0mfilename\u001b[0m\u001b[0;34m,\u001b[0m \u001b[0mself\u001b[0m\u001b[0;34m.\u001b[0m\u001b[0m_read_flags\u001b[0m\u001b[0;34m)\u001b[0m \u001b[0;32mas\u001b[0m \u001b[0mf\u001b[0m\u001b[0;34m:\u001b[0m\u001b[0;34m\u001b[0m\u001b[0;34m\u001b[0m\u001b[0m\n\u001b[0m\u001b[1;32m    663\u001b[0m                 \u001b[0mself\u001b[0m\u001b[0;34m.\u001b[0m\u001b[0mdata\u001b[0m \u001b[0;34m=\u001b[0m \u001b[0mf\u001b[0m\u001b[0;34m.\u001b[0m\u001b[0mread\u001b[0m\u001b[0;34m(\u001b[0m\u001b[0;34m)\u001b[0m\u001b[0;34m\u001b[0m\u001b[0;34m\u001b[0m\u001b[0m\n\u001b[1;32m    664\u001b[0m         \u001b[0;32melif\u001b[0m \u001b[0mself\u001b[0m\u001b[0;34m.\u001b[0m\u001b[0murl\u001b[0m \u001b[0;32mis\u001b[0m \u001b[0;32mnot\u001b[0m \u001b[0;32mNone\u001b[0m\u001b[0;34m:\u001b[0m\u001b[0;34m\u001b[0m\u001b[0;34m\u001b[0m\u001b[0m\n",
            "\u001b[0;31mFileNotFoundError\u001b[0m: [Errno 2] No such file or directory: '/content/runs/detect/train/val_batch0_pred.jpg'"
          ]
        }
      ],
      "source": [
        "Image(filename=f'/content/runs/detect/train/val_batch0_pred.jpg', width=800)"
      ]
    },
    {
      "cell_type": "markdown",
      "metadata": {
        "id": "uw-BpIAJp-sx"
      },
      "source": [
        "Датасет был увеличен до 2016 изображений"
      ]
    },
    {
      "cell_type": "code",
      "execution_count": null,
      "metadata": {
        "id": "WrP7X8EZqqet"
      },
      "outputs": [],
      "source": []
    }
  ],
  "metadata": {
    "accelerator": "GPU",
    "colab": {
      "provenance": [],
      "include_colab_link": true
    },
    "kernelspec": {
      "display_name": "Python 3",
      "name": "python3"
    },
    "language_info": {
      "name": "python"
    }
  },
  "nbformat": 4,
  "nbformat_minor": 0
}